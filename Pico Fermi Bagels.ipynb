{
 "cells": [
  {
   "cell_type": "code",
   "execution_count": null,
   "id": "65fe193f-4933-4ca6-8195-24d5d3defcbf",
   "metadata": {},
   "outputs": [],
   "source": [
    "import random\n",
    "from IPython.display import clear_output\n",
    "\n",
    "def randomdigi():\n",
    "  st = ''\n",
    "  allow_zero= input('zero should be included or not: ')\n",
    "  if allow_zero=='yes':\n",
    "    digits = [1,2,3,4,5,6,7,8,9,0]\n",
    "    random.shuffle(digits)    \n",
    "  else:\n",
    "    digits = [1,2,3,4,5,6,7,8,9]\n",
    "    random.shuffle(digits)\n",
    "  n = int(input('Enter number of digits in number :'))\n",
    "  if n >= 2:\n",
    "    rdigit = ''.join(map(str,digits[0:n]))\n",
    "    # print(rdigit)\n",
    "    return rdigit\n",
    "\n",
    "  else:\n",
    "    print('Enter Input greater than 2')\n",
    "\n",
    "def maingame():\n",
    "  rdigit = randomdigi()\n",
    "  attempt = int(input(\"Enter number of attempts :\"))\n",
    "  \n",
    "  for gd in range(attempt):\n",
    "    gd = input('\\nEnter your guess :')\n",
    "    count = 0\n",
    "    \n",
    "    if len(rdigit) == len(gd):\n",
    "      for i in range(len(rdigit)):\n",
    "        if rdigit[i] == gd[i]:\n",
    "          print('Fermi',end = ' ')\n",
    "        elif rdigit[i] in gd:\n",
    "          print('Pico',end = ' ')\n",
    "        else:\n",
    "          count = count + 1\n",
    "      \n",
    "      if count == len(gd):\n",
    "        print('Bagel')\n",
    "        \n",
    "    \n",
    "    else:\n",
    "      print('valid number')\n",
    "    \n",
    "  new = input('Do you want NEW GAME 1 for yes 0 for no :')\n",
    "  if new == '1': \n",
    "    clear_output()\n",
    "    maingame()\n",
    "  \n",
    "    \n",
    "\n",
    "maingame()"
   ]
  }
 ],
 "metadata": {
  "kernelspec": {
   "display_name": "Python 3 (ipykernel)",
   "language": "python",
   "name": "python3"
  },
  "language_info": {
   "codemirror_mode": {
    "name": "ipython",
    "version": 3
   },
   "file_extension": ".py",
   "mimetype": "text/x-python",
   "name": "python",
   "nbconvert_exporter": "python",
   "pygments_lexer": "ipython3",
   "version": "3.8.4"
  }
 },
 "nbformat": 4,
 "nbformat_minor": 5
}
